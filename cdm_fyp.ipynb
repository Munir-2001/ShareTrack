{
  "cells": [
    {
      "cell_type": "code",
      "source": [
        "import pandas as pd\n",
        "import numpy as np\n",
        "from sklearn.model_selection import train_test_split\n",
        "from sklearn.ensemble import RandomForestRegressor\n",
        "from sklearn.metrics import mean_squared_error, r2_score\n",
        "from sklearn.preprocessing import StandardScaler"
      ],
      "metadata": {
        "id": "Q86szjbiNnrO"
      },
      "id": "Q86szjbiNnrO",
      "execution_count": null,
      "outputs": []
    },
    {
      "cell_type": "code",
      "source": [
        "import matplotlib.pyplot as plt\n",
        "np.random.seed(42)\n",
        "n_customers = 1000\n",
        "\n",
        "data = {\n",
        "    'user_id': np.arange(1, n_customers + 1),\n",
        "    'age': np.random.randint(18, 70, n_customers),\n",
        "    'income': np.random.randint(10000, 150000, n_customers),\n",
        "    'loan_amount': np.random.randint(5000, 50000, n_customers),\n",
        "    'on_time_return': np.random.choice([0, 1], p=[0.5, 0.5], size=n_customers),  # Balanced likelihood of return status\n",
        "    'frequency_owing': np.random.randint(0, 10, n_customers),\n",
        "    'frequency_lending': np.random.randint(0, 10, n_customers),\n",
        "    'debt_to_income_ratio': np.random.uniform(0.2, 1.0, n_customers),  # Include more high-risk ratios\n",
        "    'total_debt': np.random.randint(10000, 100000, n_customers),  # Increased debt amounts\n",
        "    'recent_payments': np.random.choice([0, 1, 2, 3, 4, 5], p=[0.3, 0.2, 0.2, 0.1, 0.1, 0.1], size=n_customers)  # Increased variability with a tilt towards fewer payments\n",
        "}\n",
        "\n",
        "df = pd.DataFrame(data)\n",
        "\n",
        "# Apply a revised credit score formula\n",
        "df['credit_score'] = np.clip(\n",
        "    800 - df['debt_to_income_ratio'] * 350  # Further increased weight\n",
        "    - (df['debt_to_income_ratio']**2) * 100  # Increase non-linear penalty\n",
        "    + (df['on_time_return'] * 20)  # Further reduced benefit\n",
        "    + (80 * np.log(df['income'] / 10000 + 1))  # Reduced impact of income\n",
        "    + (df['frequency_lending'] * 5)  # Unchanged\n",
        "    - (df['frequency_owing'] * 30)  # Increased penalty\n",
        "    + (df['recent_payments'] * 8),  # Slightly reduced benefit\n",
        "    350, 800\n",
        ")\n",
        "\n",
        "plt.hist(df['credit_score'], bins=50, alpha=0.75)\n",
        "plt.title('Adjusted Distribution of Credit Scores')\n",
        "plt.xlabel('Credit Score')\n",
        "plt.ylabel('Frequency')\n",
        "plt.show()\n"
      ],
      "metadata": {
        "colab": {
          "base_uri": "https://localhost:8080/",
          "height": 472
        },
        "id": "eLSVBBt_tsTJ",
        "outputId": "33dbb57a-eddd-49c2-eb81-ae5b2b7af75d"
      },
      "id": "eLSVBBt_tsTJ",
      "execution_count": null,
      "outputs": [
        {
          "output_type": "display_data",
          "data": {
            "text/plain": [
              "<Figure size 640x480 with 1 Axes>"
            ],
            "image/png": "[encoded data removed]"
          },
          "metadata": {}
        }
      ]
    },
    {
      "cell_type": "code",
      "source": [
        "df.to_csv('Customer_Credit_Scores.csv', index=False)\n"
      ],
      "metadata": {
        "id": "_mqvU-OA8gXV"
      },
      "id": "_mqvU-OA8gXV",
      "execution_count": null,
      "outputs": []
    },
    {
      "cell_type": "code",
      "execution_count": null,
      "id": "67544ef9-5336-4a04-8ea9-db9adf6d0c3c",
      "metadata": {
        "colab": {
          "base_uri": "https://localhost:8080/"
        },
        "id": "67544ef9-5336-4a04-8ea9-db9adf6d0c3c",
        "outputId": "fdb49f5d-3780-42c0-e2cc-a155be6c909f"
      },
      "outputs": [
        {
          "output_type": "stream",
          "name": "stdout",
          "text": [
            "     user_id  credit_score  predicted_credit_score\n",
            "363      364    732.785229              708.792040\n",
            "314      315    749.179257              732.186965\n",
            "941      942    654.130016              654.664563\n",
            "139      140    645.422141              653.185550\n",
            "371      372    688.076693              645.682541\n",
            "30        31    542.324583              512.866142\n",
            "867      868    800.000000              789.412391\n",
            "277      278    800.000000              797.186638\n",
            "589      590    800.000000              800.000000\n",
            "218      219    350.000000              360.604704\n",
            "494      495    800.000000              799.060030\n",
            "947      948    513.355579              486.102856\n",
            "107      108    757.848851              754.079964\n",
            "542      543    628.466078              631.556982\n",
            "254      255    739.401955              720.733110\n",
            "548      549    606.496781              593.336905\n",
            "595      596    613.107889              627.056769\n",
            "837      838    418.640582              466.049694\n",
            "901      902    486.413832              497.510901\n",
            "174      175    800.000000              796.335339\n",
            "998      999    685.780332              703.319435\n",
            "318      319    580.390014              587.805657\n",
            "25        26    364.350912              396.232532\n",
            "66        67    469.176611              395.929465\n",
            "829      830    528.128221              546.655657\n",
            "529      530    456.720438              468.011391\n",
            "584      585    407.522348              410.654588\n",
            "370      371    548.647354              548.980058\n",
            "899      900    782.112715              718.735339\n",
            "298      299    717.482880              709.374257\n",
            "973      974    671.076114              680.464004\n",
            "826      827    800.000000              798.668154\n",
            "652      653    800.000000              799.921555\n",
            "917      918    612.092433              613.658985\n",
            "221      222    529.781471              562.481190\n",
            "312      313    696.397174              693.246647\n",
            "621      622    570.888318              568.080453\n",
            "382      383    640.978194              605.733216\n",
            "479      480    465.006238              457.978150\n",
            "486      487    730.993713              696.428525\n",
            "678      679    680.388547              647.133553\n",
            "361      362    523.115675              541.747809\n",
            "136      137    565.380620              606.244465\n",
            "198      199    771.789948              780.210459\n",
            "660      661    644.200173              653.642477\n",
            "210      211    646.375100              669.188065\n",
            "296      297    476.659246              476.626685\n",
            "849      850    532.715608              522.385140\n",
            "213      214    591.540401              611.329520\n",
            "289      290    407.794607              408.979908\n",
            "Mean Squared Error: 593.8014310434959\n",
            "R^2 Score: 0.9634996331623297\n"
          ]
        }
      ],
      "source": [
        "import pandas as pd\n",
        "import numpy as np\n",
        "from sklearn.model_selection import train_test_split\n",
        "from sklearn.ensemble import RandomForestRegressor\n",
        "from sklearn.metrics import mean_squared_error, r2_score\n",
        "from sklearn.preprocessing import StandardScaler\n",
        "\n",
        "# Load the dataset\n",
        "df = pd.read_csv('Customer_Credit_Scores.csv')\n",
        "\n",
        "# Define features and target variable\n",
        "features = [\n",
        "    'age', 'income', 'loan_amount', 'on_time_return', 'frequency_owing',\n",
        "    'frequency_lending', 'debt_to_income_ratio', 'total_debt', 'recent_payments'\n",
        "]\n",
        "X = df[features]\n",
        "y = df['credit_score']\n",
        "\n",
        "# Split the data into training and testing sets\n",
        "X_train, X_test, y_train, y_test = train_test_split(X, y, test_size=0.2, random_state=42)\n",
        "\n",
        "# Standardize the features\n",
        "scaler = StandardScaler()\n",
        "X_train_scaled = scaler.fit_transform(X_train)\n",
        "X_test_scaled = scaler.transform(X_test)\n",
        "\n",
        "# Initialize and train the RandomForestRegressor\n",
        "model = RandomForestRegressor(n_estimators=100, random_state=42)\n",
        "model.fit(X_train_scaled, y_train)\n",
        "\n",
        "# Make predictions\n",
        "predictions = model.predict(X_test_scaled)\n",
        "\n",
        "# Calculate metrics\n",
        "mse = mean_squared_error(y_test, predictions)\n",
        "r2 = r2_score(y_test, predictions)\n",
        "\n",
        "# Assign predictions back to the DataFrame for comparison\n",
        "df.loc[X_test.index, 'predicted_credit_score'] = predictions\n",
        "\n",
        "# Filter test set rows only to avoid NaN in the output\n",
        "df_test_predictions = df.loc[X_test.index, ['user_id', 'credit_score', 'predicted_credit_score']]\n",
        "\n",
        "# Output a sample of the data to verify\n",
        "print(df_test_predictions.sample(50))  # Show a random sample of test data\n",
        "print(f'Mean Squared Error: {mse}')\n",
        "print(f'R^2 Score: {r2}')\n"
      ]
    }
  ],
  "metadata": {
    "kernelspec": {
      "display_name": "Python 3",
      "name": "python3"
    },
    "language_info": {
      "codemirror_mode": {
        "name": "ipython",
        "version": 3
      },
      "file_extension": ".py",
      "mimetype": "text/x-python",
      "name": "python",
      "nbconvert_exporter": "python",
      "pygments_lexer": "ipython3",
      "version": "3.12.4"
    },
    "colab": {
      "provenance": [],
      "gpuType": "T4"
    },
    "accelerator": "GPU"
  },
  "nbformat": 4,
  "nbformat_minor": 5
}